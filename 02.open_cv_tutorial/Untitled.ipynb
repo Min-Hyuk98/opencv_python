{
 "cells": [
  {
   "cell_type": "code",
   "execution_count": 1,
   "metadata": {},
   "outputs": [],
   "source": [
    "import sys\n",
    "import numpy as np\n",
    "import cv2"
   ]
  },
  {
   "cell_type": "code",
   "execution_count": 11,
   "metadata": {},
   "outputs": [
    {
     "name": "stdout",
     "output_type": "stream",
     "text": [
      "frame_cnt1: 85\n",
      "frame_cnt2: 121\n",
      "FPS: 24.0\n"
     ]
    }
   ],
   "source": [
    "cap1 = cv2.VideoCapture('video1.mp4')\n",
    "cap2 = cv2.VideoCapture('video2.mp4')\n",
    "\n",
    "if not cap1.isOpened() or not cap2.isOpened():\n",
    "    print(\"video open failed\")\n",
    "    sys.exit()\n",
    "    \n",
    "frame_cnt1 = round(cap1.get(cv2.CAP_PROP_FRAME_COUNT))\n",
    "frame_cnt2 = round(cap2.get(cv2.CAP_PROP_FRAME_COUNT))\n",
    "fps = cap1.get(cv2.CAP_PROP_FPS)\n",
    "effect_frames = int(fps*2)\n",
    "delay = int(1000/ fps)\n",
    "\n",
    "print(\"frame_cnt1:\", frame_cnt1)\n",
    "print(\"frame_cnt2:\", frame_cnt2)\n",
    "print(\"FPS:\", fps)"
   ]
  },
  {
   "cell_type": "code",
   "execution_count": 13,
   "metadata": {},
   "outputs": [],
   "source": [
    "w = round(cap1.get(cv2.CAP_PROP_FRAME_WIDTH))\n",
    "h = round(cap1.get(cv2.CAP_PROP_FRAME_HEIGHT))\n",
    "fourcc = cv2.VideoWriter_fourcc(*\"DIVX\")\n",
    "\n",
    "out = cv2.VideoWriter('output.avi', fourcc, fps, (w,h))"
   ]
  },
  {
   "cell_type": "code",
   "execution_count": 15,
   "metadata": {},
   "outputs": [],
   "source": [
    "while True:\n",
    "    ret1, frame1 = cap1.read()\n",
    "    if not ret1: # 동양상의 마지막 프레임일때\n",
    "        break\n",
    "        \n",
    "    out.write(frame1)\n",
    "    cv2.imshow('frame', frame1)\n",
    "    cv2.waitKey(delay)\n",
    "    \n",
    "while True:\n",
    "    ret2, frame2 = cap2.read()\n",
    "    if not ret2: # 동양상의 마지막 프레임일때\n",
    "        break\n",
    "        \n",
    "    out.write(frame2)\n",
    "    cv2.imshow('frame', frame2)\n",
    "    cv2.waitKey(delay)\n",
    "cap1.release()\n",
    "cap2.release()\n",
    "out.release()\n",
    "cv2.destroyAllWindows()"
   ]
  },
  {
   "cell_type": "code",
   "execution_count": null,
   "metadata": {},
   "outputs": [],
   "source": []
  }
 ],
 "metadata": {
  "kernelspec": {
   "display_name": "Python 3",
   "language": "python",
   "name": "python3"
  },
  "language_info": {
   "codemirror_mode": {
    "name": "ipython",
    "version": 3
   },
   "file_extension": ".py",
   "mimetype": "text/x-python",
   "name": "python",
   "nbconvert_exporter": "python",
   "pygments_lexer": "ipython3",
   "version": "3.7.9"
  }
 },
 "nbformat": 4,
 "nbformat_minor": 4
}
